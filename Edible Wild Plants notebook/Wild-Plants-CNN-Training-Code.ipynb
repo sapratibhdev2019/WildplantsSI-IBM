{
 "cells": [
  {
   "cell_type": "code",
   "execution_count": 24,
   "metadata": {},
   "outputs": [
    {
     "data": {
      "text/plain": [
       "'2.4.0'"
      ]
     },
     "execution_count": 24,
     "metadata": {},
     "output_type": "execute_result"
    }
   ],
   "source": [
    "import tensorflow.keras\n",
    "tensorflow.keras.__version__"
   ]
  },
  {
   "cell_type": "code",
   "execution_count": 25,
   "metadata": {},
   "outputs": [
    {
     "data": {
      "text/plain": [
       "'2.4.4'"
      ]
     },
     "execution_count": 25,
     "metadata": {},
     "output_type": "execute_result"
    }
   ],
   "source": [
    "import tensorflow as tf\n",
    "tf.__version__"
   ]
  },
  {
   "cell_type": "code",
   "execution_count": 26,
   "metadata": {},
   "outputs": [],
   "source": [
    "import tensorflow.keras as keras"
   ]
  },
  {
   "cell_type": "code",
   "execution_count": 27,
   "metadata": {},
   "outputs": [],
   "source": [
    "#Import ImageDataGenerator Library\n",
    "from tensorflow.keras.preprocessing.image import ImageDataGenerator"
   ]
  },
  {
   "cell_type": "code",
   "execution_count": 28,
   "metadata": {},
   "outputs": [],
   "source": [
    "#Define the parameters /arguments for ImageDataGenerator class to train set \n",
    "train_datagen = ImageDataGenerator(rescale=1./255,shear_range=0.2,\n",
    "                                   horizontal_flip=True,\n",
    "                                   zoom_range=0.2,\n",
    "                                  rotation_range=180) \n",
    "\n",
    "\n",
    "#Define the parameters /arguments for ImageDataGenerator class to test set\n",
    "test_datagen = ImageDataGenerator(rescale=1./255)"
   ]
  },
  {
   "cell_type": "code",
   "execution_count": 29,
   "metadata": {},
   "outputs": [
    {
     "name": "stdout",
     "output_type": "stream",
     "text": [
      "Found 624 images belonging to 8 classes.\n",
      "Found 269 images belonging to 8 classes.\n"
     ]
    }
   ],
   "source": [
    "#Applying ImageDataGenerator functionality to trainset\n",
    "x_train=train_datagen.flow_from_directory(\n",
    "    directory= r\"C:\\Users\\Asus\\OneDrive\\Desktop\\Edible-Wild-Plant-Classification-ResNet50-and-Keras-masterR\\dataset\\training_set\",\n",
    "    target_size=(128,128),\n",
    "    batch_size=32,\n",
    "    class_mode='categorical')\n",
    "\n",
    "#Applying ImageDataGenerator functionality to test set\n",
    "x_test=test_datagen.flow_from_directory(\n",
    "    directory= r\"C:\\Users\\Asus\\OneDrive\\Desktop\\Edible-Wild-Plant-Classification-ResNet50-and-Keras-masterR\\dataset\\test_set\",\n",
    "    target_size=(128,128),\n",
    "    batch_size=32,\n",
    "    class_mode='categorical')"
   ]
  },
  {
   "cell_type": "code",
   "execution_count": 30,
   "metadata": {},
   "outputs": [],
   "source": [
    "'''Importing the model building libraries'''\n",
    "#to define linear initializations import Sequential\n",
    "from tensorflow.keras.models import Sequential\n",
    "#To add layers import Dense\n",
    "from tensorflow.keras.layers import Dense\n",
    "# to create a convolution kernel import Convolution2D\n",
    "from tensorflow.keras.layers import Conv2D\n",
    "# to create a Max pooling Layer\n",
    "from tensorflow.keras.layers import MaxPool2D\n",
    "# to create a Flatten Layer\n",
    "from tensorflow.keras.layers import Flatten\n",
    "from tensorflow.keras.layers import Dropout"
   ]
  },
  {
   "cell_type": "code",
   "execution_count": 31,
   "metadata": {},
   "outputs": [],
   "source": [
    "# Initializing the model\n",
    "model = Sequential()"
   ]
  },
  {
   "cell_type": "code",
   "execution_count": 32,
   "metadata": {},
   "outputs": [],
   "source": [
    "# Adding CNN layers\n",
    "model.add(Conv2D(64,3,3,input_shape=(128,128,3),activation='relu'))"
   ]
  },
  {
   "cell_type": "code",
   "execution_count": 33,
   "metadata": {},
   "outputs": [],
   "source": [
    "# Adding Max pooling Layer\n",
    "model.add(MaxPool2D(pool_size=(2,2)))"
   ]
  },
  {
   "cell_type": "code",
   "execution_count": 34,
   "metadata": {},
   "outputs": [],
   "source": [
    "# Adding CNN layers\n",
    "#model.add(Conv2D(64,3,3,activation='relu'))"
   ]
  },
  {
   "cell_type": "code",
   "execution_count": 35,
   "metadata": {},
   "outputs": [],
   "source": [
    "# Adding Max pooling Layer\n",
    "#model.add(MaxPool2D(pool_size=(2,2)))"
   ]
  },
  {
   "cell_type": "code",
   "execution_count": 36,
   "metadata": {},
   "outputs": [],
   "source": [
    "# Adding Flatten Layer\n",
    "model.add(Flatten())"
   ]
  },
  {
   "cell_type": "code",
   "execution_count": 37,
   "metadata": {},
   "outputs": [],
   "source": [
    "model.add(Dropout(0.3))"
   ]
  },
  {
   "cell_type": "code",
   "execution_count": 38,
   "metadata": {},
   "outputs": [],
   "source": [
    "# Adding Hidden Layers\n",
    "#model.add(Dense(activation='relu',units=150))"
   ]
  },
  {
   "cell_type": "code",
   "execution_count": 39,
   "metadata": {},
   "outputs": [],
   "source": [
    "# Adding Hidden Layers\n",
    "model.add(Dense(activation='relu',units=75))"
   ]
  },
  {
   "cell_type": "code",
   "execution_count": 40,
   "metadata": {},
   "outputs": [],
   "source": [
    "# Adding output Layers\n",
    "model.add(Dense(units=8,activation='softmax'))"
   ]
  },
  {
   "cell_type": "code",
   "execution_count": 41,
   "metadata": {},
   "outputs": [
    {
     "name": "stdout",
     "output_type": "stream",
     "text": [
      "Model: \"sequential_1\"\n",
      "_________________________________________________________________\n",
      "Layer (type)                 Output Shape              Param #   \n",
      "=================================================================\n",
      "conv2d_2 (Conv2D)            (None, 42, 42, 64)        1792      \n",
      "_________________________________________________________________\n",
      "max_pooling2d_2 (MaxPooling2 (None, 21, 21, 64)        0         \n",
      "_________________________________________________________________\n",
      "flatten_1 (Flatten)          (None, 28224)             0         \n",
      "_________________________________________________________________\n",
      "dropout_1 (Dropout)          (None, 28224)             0         \n",
      "_________________________________________________________________\n",
      "dense_3 (Dense)              (None, 75)                2116875   \n",
      "_________________________________________________________________\n",
      "dense_4 (Dense)              (None, 8)                 608       \n",
      "=================================================================\n",
      "Total params: 2,119,275\n",
      "Trainable params: 2,119,275\n",
      "Non-trainable params: 0\n",
      "_________________________________________________________________\n"
     ]
    }
   ],
   "source": [
    "#check the summary of the model\n",
    "model.summary()"
   ]
  },
  {
   "cell_type": "code",
   "execution_count": 42,
   "metadata": {},
   "outputs": [],
   "source": [
    "# Configure the learning process\n",
    "model.compile(optimizer = 'adam',loss='categorical_crossentropy',\n",
    "              metrics=['accuracy']) "
   ]
  },
  {
   "cell_type": "code",
   "execution_count": 21,
   "metadata": {},
   "outputs": [
    {
     "name": "stdout",
     "output_type": "stream",
     "text": [
      "{'Mountain Laurel_nonedible': 0, 'Peppergrass_edible': 1, 'Purple Deadnettle_edible': 2, 'Rhododendron_nonedible': 3, 'Toothwort_edible': 4, 'Wild Grape Vine_edible': 5, 'Wild Leek_edible': 6, 'rattlebox_nonedible': 7}\n"
     ]
    }
   ],
   "source": [
    "#check the index position of classes\n",
    "print(x_train.class_indices)"
   ]
  },
  {
   "cell_type": "code",
   "execution_count": 43,
   "metadata": {},
   "outputs": [
    {
     "name": "stdout",
     "output_type": "stream",
     "text": [
      "Epoch 1/10\n",
      "14/14 [==============================] - 4s 248ms/step - loss: 2.6275 - accuracy: 0.1185 - val_loss: 2.1158 - val_accuracy: 0.1125\n",
      "Epoch 2/10\n",
      "14/14 [==============================] - 3s 245ms/step - loss: 2.0677 - accuracy: 0.1813 - val_loss: 2.0599 - val_accuracy: 0.1437\n",
      "Epoch 3/10\n",
      "14/14 [==============================] - 3s 241ms/step - loss: 2.0298 - accuracy: 0.1979 - val_loss: 2.0177 - val_accuracy: 0.2062\n",
      "Epoch 4/10\n",
      "14/14 [==============================] - 3s 232ms/step - loss: 1.9883 - accuracy: 0.1843 - val_loss: 1.9957 - val_accuracy: 0.2000\n",
      "Epoch 5/10\n",
      "14/14 [==============================] - 3s 247ms/step - loss: 1.9536 - accuracy: 0.2657 - val_loss: 1.9989 - val_accuracy: 0.2188\n",
      "Epoch 6/10\n",
      "14/14 [==============================] - 3s 233ms/step - loss: 1.9607 - accuracy: 0.2264 - val_loss: 1.9608 - val_accuracy: 0.2875\n",
      "Epoch 7/10\n",
      "14/14 [==============================] - 4s 302ms/step - loss: 1.8622 - accuracy: 0.2739 - val_loss: 1.8254 - val_accuracy: 0.3313\n",
      "Epoch 8/10\n",
      "14/14 [==============================] - 3s 221ms/step - loss: 1.8419 - accuracy: 0.3087 - val_loss: 1.7996 - val_accuracy: 0.3438\n",
      "Epoch 9/10\n",
      "14/14 [==============================] - 3s 217ms/step - loss: 1.7454 - accuracy: 0.3757 - val_loss: 1.8423 - val_accuracy: 0.3000\n",
      "Epoch 10/10\n",
      "14/14 [==============================] - 3s 245ms/step - loss: 1.7947 - accuracy: 0.3139 - val_loss: 1.8195 - val_accuracy: 0.3000\n"
     ]
    }
   ],
   "source": [
    "# Training the model\n",
    "r = model.fit(x_train,steps_per_epoch=14,\n",
    "                              validation_data=x_test,\n",
    "                              epochs=10,validation_steps=5)"
   ]
  },
  {
   "cell_type": "code",
   "execution_count": null,
   "metadata": {},
   "outputs": [],
   "source": [
    "# plot the loss\n",
    "import matplotlib.pyplot as plt\n",
    "plt.plot(r.history['loss'], label='train loss')\n",
    "plt.plot(r.history['val_loss'], label='val loss')\n",
    "plt.legend()\n",
    "plt.show()\n",
    "plt.savefig('LossVal_loss')\n",
    "\n",
    "# plot the accuracy\n",
    "plt.plot(r.history['accuracy'], label='train acc')\n",
    "plt.plot(r.history['val_accuracy'], label='val acc')\n",
    "plt.legend()\n",
    "plt.show()\n",
    "plt.savefig('AccVal_acc')"
   ]
  },
  {
   "cell_type": "code",
   "execution_count": null,
   "metadata": {},
   "outputs": [],
   "source": [
    "#save the model\n",
    "model.save('Model/edible-non.h5')"
   ]
  },
  {
   "cell_type": "code",
   "execution_count": null,
   "metadata": {},
   "outputs": [],
   "source": [
    "#import numpy library\n",
    "import numpy as np\n",
    "#import load_model method to load our saved model\n",
    "from tensorflow.keras.models import load_model\n",
    "#import image from keras.preprocessing\n",
    "from tensorflow.keras.preprocessing import image\n",
    "#loading our saved model file\n",
    "model = load_model(\"Model/edible-non.h5\")"
   ]
  },
  {
   "cell_type": "code",
   "execution_count": null,
   "metadata": {},
   "outputs": [],
   "source": [
    "img = image.load_img(r\"dataset/test_set/Rhododendron_nonedible/images65.jpg\",\n",
    "                     target_size=(128,128))\n",
    "x = image.img_to_array(img)\n",
    "#expanding the shape of image to 4 dimensions\n",
    "x = np.expand_dims(x,axis=0)\n",
    "pred = model(x)\n",
    "print(pred)"
   ]
  },
  {
   "cell_type": "code",
   "execution_count": null,
   "metadata": {},
   "outputs": [],
   "source": [
    "probab=np.exp(pred)\n",
    "probab=list(probab[0])\n",
    "index=['Mountain Laurel_nonedible', 'Peppergrass_edible', 'Purple Deadnettle_edible', 'rattlebox_nonedible', 'Wild Leek_edible', 'Wild Grape Vine_edible','Toothwort_edible' , 'Rhododendron_nonedible']\n",
    "temp = (probab.index(max(probab)))\n",
    "result = str(index[temp])\n",
    "result"
   ]
  },
  {
   "cell_type": "code",
   "execution_count": null,
   "metadata": {},
   "outputs": [],
   "source": []
  }
 ],
 "metadata": {
  "kernelspec": {
   "display_name": "Python 3 (ipykernel)",
   "language": "python",
   "name": "python3"
  },
  "language_info": {
   "codemirror_mode": {
    "name": "ipython",
    "version": 3
   },
   "file_extension": ".py",
   "mimetype": "text/x-python",
   "name": "python",
   "nbconvert_exporter": "python",
   "pygments_lexer": "ipython3",
   "version": "3.8.0"
  }
 },
 "nbformat": 4,
 "nbformat_minor": 2
}
